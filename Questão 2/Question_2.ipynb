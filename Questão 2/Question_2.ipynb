{
 "cells": [
  {
   "cell_type": "markdown",
   "metadata": {},
   "source": [
    "# Questão 2\n",
    "\n",
    "Implemente uma rede perceptron de múltiplas camadas e utilize-a para aproximar as duas\n",
    "funções abaixo. Em seguida, compare os resultados com as curvas exatas. No caso da letra\n",
    "(b), apresente também a curva do erro médio de treinamento com relação ao número de\n",
    "épocas e a curva do erro médio com o conjunto de validação.\n"
   ]
  },
  {
   "cell_type": "markdown",
   "metadata": {},
   "source": [
    "## Importações\n",
    "\n",
    "Importando as bibliotecas que serão utilizadas na resolução do problema"
   ]
  },
  {
   "cell_type": "code",
   "execution_count": 1,
   "metadata": {},
   "outputs": [],
   "source": [
    "# Biblioteca para funções estatísticas matemáticas\n",
    "import statistics as st\n",
    "\n",
    "# Biblioteca que possui funções para manipulação numérica de arrays e matrizes\n",
    "import numpy as np\n",
    "\n",
    "# Biblioteca para plotagem e manipulação de gráficos\n",
    "import matplotlib.patches as mpatches\n",
    "import matplotlib.pyplot as plt\n",
    "\n",
    "# Biblioteca para utilização do medidor de acurácia\n",
    "from sklearn.metrics import accuracy_score"
   ]
  },
  {
   "cell_type": "markdown",
   "metadata": {},
   "source": [
    "## Função de ativação\n",
    "\n",
    "Função que transformará de forma não linear o sinal de entrada"
   ]
  },
  {
   "cell_type": "code",
   "execution_count": 2,
   "metadata": {},
   "outputs": [],
   "source": [
    "# Implementação da função de ativação linear\n",
    "def linear(x, derivative=False):\n",
    "    return np.ones_like(x) if derivative else x\n",
    "\n",
    "# Implementação da função de ativação sigmoid\n",
    "def sigmoid(x, derivative=False):\n",
    "    if derivative:\n",
    "        y = sigmoid(x)\n",
    "        return y*(1 - y)\n",
    "    return 1.0/(1.0 + np.exp(-x))\n",
    "\n",
    "# Implementação da função de ativação tanh\n",
    "def tanh(x, derivative=False):\n",
    "    if derivative:\n",
    "        y = tanh(x)\n",
    "        return 1 - y**2\n",
    "    return (np.exp(x) - np.exp(-x))/(np.exp(x) + np.exp(-x))\n",
    "\n",
    "# Implementação da função de ativação relu\n",
    "def relu(x, derivative=False):\n",
    "    if derivative:\n",
    "        return np.where(x <= 0, 0, 1)\n",
    "    return np.maximum(0, x)\n",
    "\n",
    "# Implementação da função de ativação leaky_relu\n",
    "def leaky_relu(x, derivative=False):\n",
    "    if derivative:\n",
    "        return np.where(x <= 0, 0.1, 1)\n",
    "    return np.where(x < 0, 0.1*x, x)\n",
    "\n",
    "# Implementação da função de ativação gaussian\n",
    "def gaussian(x, derivative=False):\n",
    "    if derivative:\n",
    "        return -2*x*np.exp(-x**2)\n",
    "    return np.exp(-x**2)\n",
    "\n",
    "# Implementação da função de ativação degrau\n",
    "def degrau(x, derivative=False):\n",
    "    if derivative:\n",
    "        np.where(x>0.5,1,1)\n",
    "    return np.where(x>0.5,1,0)\n",
    "\n",
    "# Implementação da função de ativação degrau\n",
    "def step(x,derivative=False):\n",
    "    if derivative:\n",
    "        return np.where(x>0,1,1)\n",
    "    return np.where(x>0,1,0)"
   ]
  },
  {
   "cell_type": "markdown",
   "metadata": {},
   "source": [
    "## Função de custo"
   ]
  },
  {
   "cell_type": "code",
   "execution_count": 3,
   "metadata": {},
   "outputs": [],
   "source": [
    "# Implementação da função de Erro Quadrático Médio\n",
    "def mse(y, y_pred, derivative=False):\n",
    "    if derivative:\n",
    "        return -(y - y_pred)\n",
    "    return np.mean((y - y_pred)**2)"
   ]
  },
  {
   "cell_type": "markdown",
   "metadata": {},
   "source": [
    "## Função de plotagem\n",
    "\n",
    "Função usada para gerar o gráfico de épocas(x) vs erros(y)"
   ]
  },
  {
   "cell_type": "code",
   "execution_count": 4,
   "metadata": {},
   "outputs": [],
   "source": [
    "def plot_error(data=[], label=['', ''], color=['blue', 'red']):\n",
    "    plt.title(\"Erros de treino e validação\")\n",
    "    plt.xlabel(\"epochs\")\n",
    "    plt.ylabel(\"errors\")\n",
    "    plt.legend(handles=[mpatches.Patch(color=color[0], label=label[0]),\n",
    "                        mpatches.Patch(color=color[1], label=label[1])])\n",
    "    plt.plot(data[0], c=color[0])\n",
    "    plt.plot(data[1], c=color[1])\n",
    "    plt.show()"
   ]
  },
  {
   "cell_type": "markdown",
   "metadata": {},
   "source": [
    "## Classe de Camada\n",
    "\n",
    "Representa uma camada da rede guardando a entrada da mesma, pesos, biases, função de ativação e a saída da camada.\n",
    "\n",
    "### Parâmetros\n",
    "\n",
    "* <strong>dimensaoEntrada</strong>: dimensão dos dados de entrada da camada\n",
    "* <strong>dimensaoSaida</strong>: dimensão dos dados de saida da camada\n",
    "* <strong>func</strong>: função de ativação que será utilizada nos neurônios da rede\n",
    "* <strong>use_bias</strong>: booleano para habilitar uso de bias\n",
    "\n",
    "### Atributos\n",
    "\n",
    "* <strong>x</strong>: dados de entrada da camada;\n",
    "* <strong>w</strong>: matriz todos os pesos de todos os neutônios da camada;\n",
    "* <strong>bias</strong>: vetor com os valores dos bias de todos os neurônios da camada;\n",
    "* <strong>func</strong>: função de ativação que será utilizada nos neurônios da rede;\n",
    "* <strong>entrFunc</strong>: armazena entrada da função de ativação;\n",
    "* <strong>saidaFunc</strong>: armazena saída da função de ativação;\n",
    "* <strong>dimensaoEntrada</strong>: dimensão dos dados de entrada da camada\n",
    "* <strong>dimensaoPesos</strong>: dimensão dos dados de entrada da camada\n",
    "* <strong>dimensaoBias</strong>: dimensão dos dados de entrada da camada\n",
    "* <strong>use_bias</strong>: booleano para habilitar uso de bias"
   ]
  },
  {
   "cell_type": "code",
   "execution_count": 5,
   "metadata": {},
   "outputs": [],
   "source": [
    "class Camada:\n",
    "    def __init__(self, dimensaoEntrada, dimensaoSaida, func=step, use_bias=True):\n",
    "        self.x = None\n",
    "        self.w = np.random.randn(dimensaoSaida, dimensaoEntrada)\n",
    "        self.bias = np.random.randn(1, dimensaoSaida)\n",
    "        self.func = func\n",
    "        self.entrFunc, self.saidaFunc = None, None\n",
    "        self.dimensaoEntrada = dimensaoEntrada\n",
    "        self.use_bias = use_bias\n",
    "        self.dimensaoPesos, self.dimensaoBias = None, None\n",
    "        self.dimensaoPesos, self._dimensaoBias, self._dimensaoBiasAnterior = None, None, 0.0"
   ]
  },
  {
   "cell_type": "markdown",
   "metadata": {},
   "source": [
    "## Classe NeuralNetwork\n",
    "\n",
    "Representa a rede neural em questão, nesse caso o Perceptron\n",
    "\n",
    "### Atributos\n",
    "\n",
    "* <strong>camadas</strong>: conjunto de camadas da rede\n",
    "* <strong>calc_erro</strong>: função de calculo de erro\n",
    "* <strong>learning_rate</strong>: taxa de aprendizado da rede\n",
    "* <strong>momentum</strong>: parametro para acelerar convergencia da função"
   ]
  },
  {
   "cell_type": "code",
   "execution_count": 6,
   "metadata": {},
   "outputs": [],
   "source": [
    "class RedeNeural():\n",
    "    def __init__(self, calc_erro=mse, learning_rate=1e-3, momentum=0.0):\n",
    "        self.camadas = []\n",
    "        self.calc_erro = calc_erro\n",
    "        self.learning_rate = learning_rate\n",
    "        self.momentum = momentum\n",
    "\n",
    "    def treinar(self,\n",
    "            X,\n",
    "            Y,\n",
    "            X_valid=None,\n",
    "            Y_valid=None,\n",
    "            epochs=1,\n",
    "            batch_size=None,\n",
    "            verbose=False,\n",
    "            accuracy=True,\n",
    "            one_hot=False):\n",
    "        '''\n",
    "            Função de treinamento\n",
    "            Parâmetros:\n",
    "                X - entradas\n",
    "                Y - saídas esperadas\n",
    "                epochs - quantidade de épocas de treinamento\n",
    "                verbose - passos para verificação da época\n",
    "        '''\n",
    "        batch_size = X.shape[0] if batch_size is None else batch_size\n",
    "        n_batches = X.shape[0] // batch_size\n",
    "        error_track = []\n",
    "        error_epoch = []\n",
    "        error_valid_track = []\n",
    "        \n",
    "        for epoch in range(epochs+1):\n",
    "            errors_batch = []\n",
    "            for batch in range(n_batches):\n",
    "                offset = batch_size * batch\n",
    "                X_batch, Y_batch = X[offset:offset + batch_size], Y[offset:offset + batch_size]\n",
    "                y_pred = self.processaNeuronio(X_batch)\n",
    "                self.retropropagacao(Y_batch, y_pred)\n",
    "                \n",
    "                if one_hot:\n",
    "                    Y_batch = np.argmax(Y_batch, axis=1)\n",
    "                    y_pred = np.argmax(y_pred, axis=1)\n",
    "                    \n",
    "                errors_batch.append(np.mean(np.abs(Y_batch - y_pred)))\n",
    "            \n",
    "            error_track.append(np.mean(errors_batch))\n",
    "            \n",
    "            if accuracy:\n",
    "                if one_hot:\n",
    "                    y_pred = self.previsao(X_valid).argmax(axis=1)\n",
    "                    error_valid_track.append(1 - accuracy_score(Y_valid, y_pred))\n",
    "                else:\n",
    "                    error_valid_track.append(1 - accuracy_score(Y_valid.astype('float'), self.previsao(X_valid).astype('float'))) \n",
    "            \n",
    "            if epoch % verbose == 0:\n",
    "                print('Epoch: {0}/{1} \\nError: {2:0.4f}%'.format(epoch, epochs, error_track[-1] * 100))\n",
    "                \n",
    "        return error_track, error_valid_track\n",
    "    \n",
    "    def adicionaCamada(self, camada):\n",
    "        '''\n",
    "            Método para adição de layers ao modelo\n",
    "            Parâmetros:\n",
    "                layer - Layer a se adicionada ao modelo\n",
    "        '''\n",
    "        self.camadas.append(camada)\n",
    "    \n",
    "    def processaNeuronio(self, x):\n",
    "        '''\n",
    "            Método de Feedforward - Efetua a multiplicação das entradas pelos pesos, soma ao bias, aplica função de ativação\n",
    "            Parâmetros:\n",
    "                x - dados de entrada\n",
    "        '''\n",
    "        self.camadas[0].x = x\n",
    "        for current_layer, next_layer in zip(self.camadas, self.camadas[1:] + [Camada(0,0)]):\n",
    "            y = np.dot(current_layer.x, current_layer.w.T) + current_layer.bias\n",
    "            current_layer.entrFunc = y\n",
    "            current_layer.saidaFunc = next_layer.x = current_layer.func(y)\n",
    "        return self.camadas[-1].saidaFunc\n",
    "    \n",
    "    def previsao(self, X, verbose=False):\n",
    "        '''\n",
    "            Método de Predição - Gera um conjunto de valores resultante do processo de FeedForward nos para os dados de entrada\n",
    "            Parâmetros:\n",
    "                x - dados de entrada\n",
    "        '''\n",
    "        return self.processaNeuronio(X)\n",
    "    \n",
    "    def validar(self, y_pred, y, func=step, dtype=int):\n",
    "        '''\n",
    "            Método Evaluate - Verifica a accuracy da rede\n",
    "            Parâmetros:\n",
    "                y_pred - resultado do processo de FeedForward sobre os dados de entrada\n",
    "                dtype - tipo dos dados\n",
    "        '''\n",
    "        score = 0\n",
    "        total = 100.0/y.shape[0]\n",
    "        y_pred = y_pred.astype(dtype)\n",
    "        y = y.astype(dtype)\n",
    "\n",
    "        for y_i, y_pred_i in zip(y,y_pred):\n",
    "            y_pred_i = func(y_pred_i)\n",
    "            if np.array_equal(y_i,y_pred_i):\n",
    "                score+=1\n",
    "        return score*total\n",
    "\n",
    "    def retropropagacao(self, y, y_pred):\n",
    "        '''\n",
    "            Método para a aplicação do backpropagation\n",
    "            Parâmetros:\n",
    "                y - dados de saída esperados\n",
    "                y_pred - resultado do processo de FeedForward sobre os dados de entrada\n",
    "        '''\n",
    "        last_delta = self.calc_erro(y, y_pred, derivative=True)\n",
    "        for layer in reversed(self.camadas):\n",
    "            dactivation = layer.func(layer.entrFunc, derivative=True)*last_delta\n",
    "            last_delta = np.dot(dactivation, layer.w)\n",
    "            layer.dimensaoPesos = np.dot(dactivation.T, layer.x)\n",
    "            layer.dimensaoBias = 1.0*dactivation.sum(axis=0, keepdims=True)\n",
    "\n",
    "        for layer in reversed(self.camadas):\n",
    "            layer._dimensaoBiasAnterior = -self.learning_rate*layer.dimensaoPesos + self.momentum*layer._dimensaoBiasAnterior\n",
    "            layer.w = layer.w + layer._dimensaoBiasAnterior\n",
    "            layer.biases = layer.bias - self.learning_rate*layer.dimensaoBias"
   ]
  },
  {
   "cell_type": "markdown",
   "metadata": {},
   "source": [
    "## Fluxo de execução da Main\n",
    "\n",
    "Representará a inicialização e execução da rede neural.\n",
    "\n",
    "<strong>Fluxo</strong>: Primeiramente a rede é inicializada, em seguida os dados de entrada e saida são obtidos, logo após o treinamento é feito com 80% dos dados e o Teste com os 20% restantes, e por fim a acuracia da rede é verificada"
   ]
  },
  {
   "cell_type": "code",
   "execution_count": 7,
   "metadata": {},
   "outputs": [
    {
     "data": {
      "image/png": "[encoded data removed]",
      "text/plain": [
       "<Figure size 432x288 with 1 Axes>"
      ]
     },
     "metadata": {
      "needs_background": "light"
     },
     "output_type": "display_data"
    }
   ],
   "source": [
    "# Leitura dos dados de treinamento e validação\n",
    "\n",
    "x = [[0,0], [0,1], [1,0], [1,1]]\n",
    "y = [[0], [1], [1], [0]]\n",
    "\n",
    "# leitura dos dados\n",
    "# for line in open('data/Q3/data_x-3a.txt', 'r').readlines():\n",
    "#     x.append([float(num) for num in line.split(',')])\n",
    "\n",
    "# for line in open('data/Q3/data_y-3a.txt', 'r').readlines():\n",
    "#     y.append([float(num) for num in line.split(',')])\n",
    "\n",
    "# dados de treino\n",
    "x = np.array(x)\n",
    "y = np.array(y)\n",
    "\n",
    "# dados de validação\n",
    "x_valid = x\n",
    "y_valid = y\n",
    "\n",
    "# print(\"X [TREINO]: \", x.shape)\n",
    "# print(\"Y [TREINO]: \", y.shape)\n",
    "# print()\n",
    "# print(\"X [TESTE]: \", x_valid.shape)\n",
    "# print(\"Y [TESTE]: \", y_valid.shape)\n",
    "\n",
    "for index, y_i in enumerate(y):\n",
    "    if y_i[0] == 1:\n",
    "        plt.plot(x[index][0], x[index][1], 'bo')\n",
    "    else:\n",
    "        plt.plot(x[index][0], x[index][1], 'ro')\n",
    "\n",
    "plt.show()"
   ]
  },
  {
   "cell_type": "code",
   "execution_count": 8,
   "metadata": {},
   "outputs": [
    {
     "name": "stdout",
     "output_type": "stream",
     "text": [
      "Epoch: 0/1000 \n",
      "Error: 50.0000%\n",
      "Epoch: 200/1000 \n",
      "Error: 50.0000%\n",
      "Epoch: 400/1000 \n",
      "Error: 100.0000%\n",
      "Epoch: 600/1000 \n",
      "Error: 50.0000%\n",
      "Epoch: 800/1000 \n",
      "Error: 50.0000%\n",
      "Epoch: 1000/1000 \n",
      "Error: 0.0000%\n"
     ]
    },
    {
     "data": {
      "image/png": "[encoded data removed]",
      "text/plain": [
       "<Figure size 432x288 with 1 Axes>"
      ]
     },
     "metadata": {
      "needs_background": "light"
     },
     "output_type": "display_data"
    },
    {
     "name": "stdout",
     "output_type": "stream",
     "text": [
      "1.0\n"
     ]
    }
   ],
   "source": [
    "rn = RedeNeural(learning_rate=0.02)\n",
    "rn.adicionaCamada(Camada(dimensaoEntrada=x.shape[1], dimensaoSaida=2, func=sigmoid))\n",
    "rn.adicionaCamada(Camada(dimensaoEntrada=2, dimensaoSaida=y.shape[1], func=step))\n",
    "\n",
    "# treinamento\n",
    "errors_train, errors_valid = rn.treinar(x, y, x_valid, y_valid, batch_size=2 ,epochs=1000, verbose=200)\n",
    "\n",
    "plot_error([errors_train, errors_valid], [\"Treino\", \"Validação\"])\n",
    "\n",
    "# calculo do erro de predição\n",
    "y_pred = rn.previsao(x_valid)\n",
    "acc = accuracy_score(y_valid, y_pred)\n",
    "\n",
    "print(acc)"
   ]
  },
  {
   "cell_type": "code",
   "execution_count": 12,
   "metadata": {},
   "outputs": [
    {
     "name": "stdout",
     "output_type": "stream",
     "text": [
      "X [TREINO]:  (4000, 1)\n",
      "Y [TREINO]:  (4000, 1)\n",
      "\n",
      "X [TESTE]:  (800, 1)\n",
      "Y [TESTE]:  (800, 1)\n"
     ]
    },
    {
     "data": {
      "image/png": "[encoded data removed]",
      "text/plain": [
       "<Figure size 432x288 with 1 Axes>"
      ]
     },
     "metadata": {
      "needs_background": "light"
     },
     "output_type": "display_data"
    }
   ],
   "source": [
    "# Leitura dos dados de treinamento e validação\n",
    "\n",
    "x = []\n",
    "y = []\n",
    "\n",
    "# leitura dos dados\n",
    "for line in open('data_x.txt', 'r').readlines():\n",
    "    x.append([float(num) for num in line.split(',')])\n",
    "\n",
    "for line in open('data_y.txt', 'r').readlines():\n",
    "    y.append([float(num) for num in line.split(',')])\n",
    "\n",
    "# dados de treino\n",
    "x = np.array(x[:int(len(x) * 0.8)])\n",
    "y = np.array(y[:int(len(y) * 0.8)])\n",
    "\n",
    "# dados de validação\n",
    "x_valid = np.array(x[int(len(x) * 0.8):])\n",
    "y_valid = np.array(y[int(len(y) * 0.8):])\n",
    "\n",
    "print(\"X [TREINO]: \", x.shape)\n",
    "print(\"Y [TREINO]: \", y.shape)\n",
    "print()\n",
    "print(\"X [TESTE]: \", x_valid.shape)\n",
    "print(\"Y [TESTE]: \", y_valid.shape)\n",
    "\n",
    "plt.plot(x, y, 'bo')\n",
    "plt.show()"
   ]
  },
  {
   "cell_type": "code",
   "execution_count": 13,
   "metadata": {},
   "outputs": [
    {
     "name": "stdout",
     "output_type": "stream",
     "text": [
      "Epoch: 0/1000 \n",
      "Error: 25.9900%\n",
      "Epoch: 100/1000 \n",
      "Error: 6.1228%\n",
      "Epoch: 200/1000 \n",
      "Error: 5.7601%\n",
      "Epoch: 300/1000 \n",
      "Error: 5.5955%\n",
      "Epoch: 400/1000 \n",
      "Error: 5.4566%\n",
      "Epoch: 500/1000 \n",
      "Error: 5.3298%\n",
      "Epoch: 600/1000 \n",
      "Error: 5.0918%\n",
      "Epoch: 700/1000 \n",
      "Error: 4.2268%\n",
      "Epoch: 800/1000 \n",
      "Error: 3.6909%\n",
      "Epoch: 900/1000 \n",
      "Error: 3.3647%\n",
      "Epoch: 1000/1000 \n",
      "Error: 3.2300%\n"
     ]
    },
    {
     "data": {
      "image/png": "[encoded data removed]",
      "text/plain": [
       "<Figure size 432x288 with 1 Axes>"
      ]
     },
     "metadata": {
      "needs_background": "light"
     },
     "output_type": "display_data"
    },
    {
     "data": {
      "image/png": "[encoded data removed]",
      "text/plain": [
       "<Figure size 432x288 with 1 Axes>"
      ]
     },
     "metadata": {
      "needs_background": "light"
     },
     "output_type": "display_data"
    }
   ],
   "source": [
    "rn = RedeNeural(learning_rate=0.001)\n",
    "rn.adicionaCamada(Camada(dimensaoEntrada=x.shape[1], dimensaoSaida=4, func=tanh))\n",
    "rn.adicionaCamada(Camada(dimensaoEntrada=4, dimensaoSaida=4, func=relu))\n",
    "rn.adicionaCamada(Camada(dimensaoEntrada=4, dimensaoSaida=4, func=relu))\n",
    "rn.adicionaCamada(Camada(dimensaoEntrada=4, dimensaoSaida=y.shape[1], func=tanh))\n",
    "\n",
    "# treinamento\n",
    "errors_train, errors_valid = rn.treinar(x, y, x_valid, y_valid, batch_size=30, epochs=1000, verbose=100, accuracy=False)\n",
    "\n",
    "plot_error([errors_train, errors_valid], [\"Treino\", \"Validação\"])\n",
    "\n",
    "# calculo do erro de predição\n",
    "y_pred = rn.previsao(x_valid)\n",
    "\n",
    "plt.plot(x, y, 'bo')\n",
    "plt.plot(x_valid, y_pred, 'go')\n",
    "plt.show()"
   ]
  },
  {
   "cell_type": "code",
   "execution_count": null,
   "metadata": {},
   "outputs": [],
   "source": []
  }
 ],
 "metadata": {
  "kernelspec": {
   "display_name": "Python 3",
   "language": "python",
   "name": "python3"
  },
  "language_info": {
   "codemirror_mode": {
    "name": "ipython",
    "version": 3
   },
   "file_extension": ".py",
   "mimetype": "text/x-python",
   "name": "python",
   "nbconvert_exporter": "python",
   "pygments_lexer": "ipython3",
   "version": "3.7.8"
  }
 },
 "nbformat": 4,
 "nbformat_minor": 4
}
