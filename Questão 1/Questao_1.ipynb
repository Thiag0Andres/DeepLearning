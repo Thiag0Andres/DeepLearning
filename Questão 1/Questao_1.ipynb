{
 "cells": [
  {
   "cell_type": "markdown",
   "metadata": {},
   "source": [
    "# Questão 1"
   ]
  },
  {
   "cell_type": "markdown",
   "metadata": {},
   "source": [
    "A representação de uma determinada mensagem digital ternária, isto é formada por três bits,\n",
    "forma um cubo cujos vértices correspondem a mesma representação digital. Supondo que ao\n",
    "transmitirmos esta mensagem a mesma possa ser contaminada por ruído formado em torno de\n",
    "cada vértice uma nuvem esférica de valores aleatórios com raio máximo é 0.1. Formule este\n",
    "problema como um problema de classificação de padrões e treine uma rede Perceptron de\n",
    "Rosenblatt (Perceptron de camada única) para atuar como classificador/decodificador. Para\n",
    "solução do problema defina antes um conjunto de treinamento e um conjunto de validação."
   ]
  },
  {
   "cell_type": "markdown",
   "metadata": {},
   "source": [
    "## Importação"
   ]
  },
  {
   "cell_type": "markdown",
   "metadata": {},
   "source": [
    "Importando as bibliotecas que serão usadas para resolver o problema."
   ]
  },
  {
   "cell_type": "code",
   "execution_count": 2,
   "metadata": {},
   "outputs": [],
   "source": [
    "# Biblioteca para funções estatísticas matemáticas\n",
    "import statistics as st\n",
    "\n",
    "# Biblioteca que possui funções para manipulação numérica de arrays e matrizes\n",
    "import numpy as np\n",
    "\n",
    "# Biblioteca para plotagem e manipulação de gráficos\n",
    "import matplotlib.patches as mpatches\n",
    "import matplotlib.pyplot as plt"
   ]
  },
  {
   "cell_type": "markdown",
   "metadata": {},
   "source": [
    "## Funções de ativação"
   ]
  },
  {
   "cell_type": "markdown",
   "metadata": {},
   "source": [
    "Funções de ativação que a rede usará para forçar que sua saída represente a probabilidade dos dados serem de uma das classes definidas."
   ]
  },
  {
   "cell_type": "code",
   "execution_count": 3,
   "metadata": {},
   "outputs": [],
   "source": [
    "# Implementação da função de ativação linear\n",
    "def linear(x):\n",
    "    return np.ones_like(x) if derivative else x\n",
    "\n",
    "# Implementação da função de ativação sigmoid\n",
    "def sigmoid(x):\n",
    "    return 1.0/(1.0 + np.exp(-x))\n",
    "\n",
    "# Implementação da função de ativação degrau\n",
    "def step(x):\n",
    "    return np.where(x>0,1,-1)"
   ]
  },
  {
   "cell_type": "markdown",
   "metadata": {},
   "source": [
    "## Função de plotagem"
   ]
  },
  {
   "cell_type": "markdown",
   "metadata": {},
   "source": [
    "Função usada para gerar o gráfico de épocas vs erros."
   ]
  },
  {
   "cell_type": "code",
   "execution_count": 4,
   "metadata": {},
   "outputs": [],
   "source": [
    "def plot_error(data=[], label=['', ''], color=['blue', 'red']):\n",
    "    plt.title(\"Erro treino x validação\")\n",
    "    plt.xlabel(\"epocas\")\n",
    "    plt.ylabel(\"erros\")\n",
    "    plt.legend(handles=[mpatches.Patch(color=color[0], label=label[0]),\n",
    "                        mpatches.Patch(color=color[1], label=label[1])])\n",
    "    plt.plot(data[0], c=color[0])\n",
    "    plt.plot(data[1], c=color[1])\n",
    "    plt.show()"
   ]
  },
  {
   "cell_type": "markdown",
   "metadata": {},
   "source": [
    "## Classe de Camada"
   ]
  },
  {
   "cell_type": "markdown",
   "metadata": {},
   "source": [
    "Classe que representará uma camada da rede que guardará os parâmetros de entrada."
   ]
  },
  {
   "cell_type": "markdown",
   "metadata": {},
   "source": [
    "### Parâmetros "
   ]
  },
  {
   "cell_type": "markdown",
   "metadata": {},
   "source": [
    "* **dimensao**: dimensão dos dados de entrada da camada;\n",
    "* **quant**: quantidade de neurônios da camada;\n",
    "* **func**: função de ativação que será utilizada nos neurônios da rede;"
   ]
  },
  {
   "cell_type": "markdown",
   "metadata": {},
   "source": [
    "### Atributos"
   ]
  },
  {
   "cell_type": "markdown",
   "metadata": {},
   "source": [
    "* **x**: dados de entrada da camada;\n",
    "* **w**: matriz todos os pesos de todos os neurônios da camada;\n",
    "* **bias**: vetor com os valores dos bias de todos os neurônios da camada;\n",
    "* **func**: função de ativação que será utilizada nos neurônios da rede;\n",
    "* **saidaFunc**: armazena saída da função de ativação;"
   ]
  },
  {
   "cell_type": "code",
   "execution_count": 5,
   "metadata": {},
   "outputs": [],
   "source": [
    "class Camada():\n",
    "    def __init__(self, dimensao, quant=1, func=step):\n",
    "        self.x = None\n",
    "        self.w = np.random.randn(quant, dimensao)\n",
    "        self.bias = np.random.randn(1, quant)\n",
    "        self.func = func\n",
    "        self.saidaFunc = None"
   ]
  },
  {
   "cell_type": "markdown",
   "metadata": {},
   "source": [
    "## Classe RedeNeural"
   ]
  },
  {
   "cell_type": "markdown",
   "metadata": {},
   "source": [
    "Classe que representará a Rede Neural."
   ]
  },
  {
   "cell_type": "markdown",
   "metadata": {},
   "source": [
    "### Atributos"
   ]
  },
  {
   "cell_type": "markdown",
   "metadata": {},
   "source": [
    "* **camadas**: conjunto de camadas da rede;"
   ]
  },
  {
   "cell_type": "code",
   "execution_count": 13,
   "metadata": {},
   "outputs": [],
   "source": [
    "class RedeNeural():\n",
    "    def __init__(self):\n",
    "        self.camadas = []\n",
    "        \n",
    "    def treinar(self, x, y, x_valid, y_valid, learning_rate=1e-3, epochs=100, verbose=10, plot=False):\n",
    "        '''\n",
    "            Função de treinamento\n",
    "            Parâmetros:\n",
    "                x - entradas\n",
    "                y - saídas esperadas\n",
    "                learning_rate - taxa de aprendizagem\n",
    "                epochs - quantidade de épocas de treinamento\n",
    "                verbose - passos para verificação da época\n",
    "        '''\n",
    "        errors_train = []\n",
    "        errors_valid = []\n",
    "\n",
    "        for epoch in range(epochs+1):\n",
    "            error_epoch = []\n",
    "            for x_i, y_i in zip(x, y):\n",
    "                x_i =  x_i.reshape(1, x.shape[1])\n",
    "                y_pred = self.processaNeuronio(x_i)\n",
    "                \n",
    "                # erro de treinamento\n",
    "                erro = y_i - y_pred\n",
    "                error_epoch.append(np.mean(np.abs(erro[0])))\n",
    "                \n",
    "                for camada in self.camadas:\n",
    "                    camada.w += learning_rate * np.dot(erro.T, x_i)\n",
    "                    camada.bias += learning_rate * erro[0]\n",
    "            \n",
    "            # calculo do erro de predição\n",
    "            y_pred = self.previsao(x_valid)\n",
    "            acc = self.validar(y_pred, y_valid)\n",
    "            errors_valid.append(1 - acc)\n",
    "            errors_train.append(np.mean(error_epoch))\n",
    "            \n",
    "            if epoch % verbose == 0:\n",
    "                print(\"epoch: {0:=4}/{1}\\nerror: {2}\".format(epoch, epochs, errors_train[-1]))\n",
    "                \n",
    "        print(\"Acuracia =\", acc)\n",
    "            \n",
    "        return errors_train, errors_valid\n",
    "    \n",
    "    def adicionaCamada(self, camada):\n",
    "        '''\n",
    "            Método para adição de camadas ao modelo\n",
    "            Parâmetros:\n",
    "                camada - Camada para adicionar ao modelo\n",
    "        '''\n",
    "        self.camadas.append(camada)\n",
    "    \n",
    "    def processaNeuronio(self, x):\n",
    "        '''\n",
    "            Método de processamento - Efetua a multiplicação das entradas pelos pesos, soma ao bias, aplica função de ativação\n",
    "            Parâmetros:\n",
    "                x - dados de entrada\n",
    "        '''\n",
    "        self.camadas[0].x = x\n",
    "        for current_layer, next_layer in zip(self.camadas, self.camadas[1:]+[Camada(0,0)]):\n",
    "            y = np.dot(current_layer.x, current_layer.w.T) + current_layer.bias\n",
    "            current_layer.saidaFunc = next_layer.x = current_layer.func(y)\n",
    "        return self.camadas[-1].saidaFunc\n",
    "    \n",
    "    def previsao(self, x):\n",
    "        '''\n",
    "            Método de Predição - Gera um conjunto de valores resultante do processo de FeedForward nos para os dados de entrada\n",
    "            Parâmetros:\n",
    "                x - dados de entrada\n",
    "        '''\n",
    "        y_pred = []\n",
    "        \n",
    "        for data in x:\n",
    "            y_pred.append(self.processaNeuronio(data))\n",
    "            \n",
    "        return np.array(y_pred)\n",
    "    \n",
    "    def validar(self,y_pred, y, dtype=int):\n",
    "        '''\n",
    "            Método Validar - Verifica a acurácia da rede\n",
    "            Parâmetros:\n",
    "                y_pred - resultado do processo de ProcessaNeuronio sobre os dados de entrada\n",
    "                dtype - tipo dos dados\n",
    "        '''\n",
    "        score = 0\n",
    "        #total = 100.0/y.shape[0]\n",
    "        total = 1/y.shape[0]\n",
    "\n",
    "        # verifica se possuem o tipo de saída esperado\n",
    "        y_pred = y_pred.astype(dtype)\n",
    "        y = y.astype(dtype)\n",
    "\n",
    "        for y_i, y_pred_i in zip(y,y_pred):\n",
    "            if np.array_equal(y_i,y_pred_i[0]):\n",
    "                score+=1\n",
    "\n",
    "        return score*total"
   ]
  },
  {
   "cell_type": "markdown",
   "metadata": {},
   "source": [
    "## Fluxo de execução da Main"
   ]
  },
  {
   "cell_type": "markdown",
   "metadata": {},
   "source": [
    "Representará a inicialização e execução da rede neural."
   ]
  },
  {
   "cell_type": "markdown",
   "metadata": {},
   "source": [
    "**Fluxo**: A rede será inicializada, os dados de entrada e saída serão obtidos, o treinamento será feito e a acuarácia será verificada."
   ]
  },
  {
   "cell_type": "code",
   "execution_count": 20,
   "metadata": {},
   "outputs": [
    {
     "name": "stdout",
     "output_type": "stream",
     "text": [
      "epoch:    0/40\n",
      "error: 0.98125\n",
      "epoch:   10/40\n",
      "error: 0.38671875\n",
      "epoch:   20/40\n",
      "error: 0.22578125\n",
      "epoch:   30/40\n",
      "error: 0.08984375\n",
      "epoch:   40/40\n",
      "error: 0.0109375\n",
      "Acuracia = 0.9375\n"
     ]
    },
    {
     "data": {
      "image/png": "[encoded data removed]",
      "text/plain": [
       "<Figure size 432x288 with 1 Axes>"
      ]
     },
     "metadata": {
      "needs_background": "light"
     },
     "output_type": "display_data"
    }
   ],
   "source": [
    "rn = RedeNeural()\n",
    "\n",
    "x = []\n",
    "y = []\n",
    "\n",
    "# leitura dos dados\n",
    "for line in open('./data_x.txt', 'r').readlines():\n",
    "    x.append([float(num) for num in line.split(',')])\n",
    "\n",
    "for line in open('./data_y.txt', 'r').readlines():\n",
    "    y.append([int(num) for num in line.split(',')])\n",
    "\n",
    "# dados de treino\n",
    "x = np.array(x[:int(len(x) * 0.8)])\n",
    "y = np.array(y[:int(len(y) * 0.8)])\n",
    "\n",
    "# dados de validação\n",
    "x_valid = np.array(x[int(len(x) * 0.8):])\n",
    "y_valid = np.array(y[int(len(y) * 0.8):])\n",
    "\n",
    "rn.adicionaCamada(Camada(dimensao=x.shape[1], quant=y.shape[1], func=step))\n",
    "\n",
    "# treinamento\n",
    "errors_train, errors_valid = rn.treinar(x, y, x_valid, y_valid, learning_rate=0.001 , epochs=40, verbose=10, plot=True)\n",
    "\n",
    "plot_error([errors_train, errors_valid], [\"Treino\", \"Validação\"])"
   ]
  },
  {
   "cell_type": "code",
   "execution_count": null,
   "metadata": {},
   "outputs": [],
   "source": []
  }
 ],
 "metadata": {
  "kernelspec": {
   "display_name": "Python 3",
   "language": "python",
   "name": "python3"
  },
  "language_info": {
   "codemirror_mode": {
    "name": "ipython",
    "version": 3
   },
   "file_extension": ".py",
   "mimetype": "text/x-python",
   "name": "python",
   "nbconvert_exporter": "python",
   "pygments_lexer": "ipython3",
   "version": "3.7.8"
  }
 },
 "nbformat": 4,
 "nbformat_minor": 4
}
